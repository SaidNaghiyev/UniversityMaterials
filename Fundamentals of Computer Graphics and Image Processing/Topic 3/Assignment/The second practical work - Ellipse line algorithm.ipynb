{
 "cells": [
  {
   "cell_type": "code",
   "execution_count": 5,
   "metadata": {
    "scrolled": false
   },
   "outputs": [
    {
     "data": {
      "image/png": "[encoded data removed]",
      "text/plain": [
       "<Figure size 1000x800 with 1 Axes>"
      ]
     },
     "metadata": {},
     "output_type": "display_data"
    }
   ],
   "source": [
    "import numpy as np\n",
    "import matplotlib.pyplot as plt\n",
    "from matplotlib.patches import Ellipse\n",
    "import math\n",
    "\n",
    "img = np.ones((250,900,3))\n",
    "def Fill(x,y):\n",
    "    if((x>0 and x<890) and (y>0 and y<249) and img[x,y,0] != 0.0):\n",
    "        img[x,y] = 0;\n",
    "        Fill(x,y+1);\n",
    "        Fill(x,y-1);\n",
    "        Fill(x+1,y);\n",
    "        Fill(x-1,y);\n",
    "    else:\n",
    "        print(x,y);\n",
    "\n",
    "def DrawEllipse(xc, yc, rx, ry):\n",
    "    xk = 0;\n",
    "    yk = ry;\n",
    "    pk = ry*ry-rx*rx*ry + (1/4)*rx*rx;\n",
    "    \n",
    "    while(ry*ry*xk < rx*rx*yk):\n",
    "        xk+=1;\n",
    "        if(pk>0):\n",
    "            yk-=1;\n",
    "            pk=pk+2*ry**2*xk-2*rx**2*yk+ry**2;\n",
    "        else:\n",
    "            pk=pk+2*ry**2*xk+ry**2;\n",
    "            \n",
    "        img[(xc+xk), (yc+yk)] = 0;\n",
    "        img[(xc+xk), (yc-yk)] = 0;\n",
    "        img[(xc-xk), (yc+yk)] = 0;\n",
    "        img[(xc-xk), (yc-yk)] = 0;\n",
    "    \n",
    "    pk = ry*ry*(xk+(1/2))*(xk+(1/2))+rx*rx*(yk-1)*(yk-1)-ry*ry*rx*rx;\n",
    "    \n",
    "    while(yk>0):\n",
    "        yk-=1;\n",
    "        if(pk<0):\n",
    "            xk+=1;\n",
    "            #pk=pk-2*ry*ry*yk+2*ry*ry*yk+rx*rx;\n",
    "            pk=pk-2*rx*rx*yk+rx*rx+2*ry*ry*xk;\n",
    "        else:\n",
    "            #pk=pk-2*rx*rx*yk+rx*rx;\n",
    "            pk=pk-2*rx*rx*yk+rx*rx;\n",
    "        img[(xc+xk), (yc+yk)] = 0;\n",
    "        img[(xc+xk), (yc-yk)] = 0;\n",
    "        img[(xc-xk), (yc+yk)] = 0;\n",
    "        img[(xc-xk), (yc-yk)] = 0;\n",
    "    return;\n",
    "#0110 0100\n",
    "ID = \"01100100\"; #//Enter You id here or what ever you want with byte\n",
    "posy = 100;\n",
    "posx = 50;\n",
    "num = 0;\n",
    "\n",
    "for i in ID:\n",
    "    DrawEllipse(posy,posx, 49, 36);\n",
    "    if(i=='1'):\n",
    "        xx = 49;\n",
    "        while(xx>=0):\n",
    "            DrawEllipse(posy,posx, xx, 36);\n",
    "            xx-=1;\n",
    "    posx+=80;\n",
    "    \n",
    "plt.figure(figsize = (10,8), dpi=100,facecolor = 'w', edgecolor='k');\n",
    "plt.imshow(img);\n",
    "plt.show();"
   ]
  },
  {
   "cell_type": "code",
   "execution_count": null,
   "metadata": {},
   "outputs": [],
   "source": []
  },
  {
   "cell_type": "code",
   "execution_count": null,
   "metadata": {},
   "outputs": [],
   "source": []
  }
 ],
 "metadata": {
  "kernelspec": {
   "display_name": "Python 3",
   "language": "python",
   "name": "python3"
  },
  "language_info": {
   "codemirror_mode": {
    "name": "ipython",
    "version": 3
   },
   "file_extension": ".py",
   "mimetype": "text/x-python",
   "name": "python",
   "nbconvert_exporter": "python",
   "pygments_lexer": "ipython3",
   "version": "3.7.6"
  }
 },
 "nbformat": 4,
 "nbformat_minor": 4
}
